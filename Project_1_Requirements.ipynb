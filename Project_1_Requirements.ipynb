{
 "cells": [
  {
   "cell_type": "markdown",
   "metadata": {},
   "source": [
    "    An Important note. The files found in the sample folder are of students work from last year. These files are to give you a sense of a single persons work on Project 1. It is important to note that this was a single person project and not a group project like we are doing. \n",
    "\n",
    "    Again the code supplied is for you to get an idea of code and help you along your path.\n",
    "    "
   ]
  },
  {
   "cell_type": "markdown",
   "metadata": {},
   "source": [
    "# Project 1"
   ]
  },
  {
   "cell_type": "markdown",
   "metadata": {},
   "source": [
    "\n",
    "## Your task is to develop **with a partner** a text-based video game \n",
    "\n",
    "## This should take you 3 weeks to complete  \n",
    "I expect code to be around 300 - 400 lines of code. \n",
    "\n",
    "As a team you create a game. Focus on the player profile, inventory system, combat mechanics. \n",
    "Independently work on your parts of code and then work together to make the program flow correctly. \n",
    "I recommend writing all your Independent code in .py files and use .ipynb file to make all the connections and run your game. \n",
    "\n",
    "Incorporate all the concepts we've covered so far, including files (read and write), JSON, operators, lists, (optional) tuples, functions, modules, and classes.\n",
    "\n",
    "\n",
    "Enjoy the process!\n",
    "\n",
    "### Requirements:\n",
    "  note: you may mix and match what each person does in the project \n",
    "- **Player Type Selection**: Allow players to choose their character type. Set attributes based on the choice (e.g., wizard: magic = 10, knight: magic = 0) hint: this should be done in the classes.\n",
    "\n",
    "- **Inventory Management**: Create functions to add and remove items from the inventory. Some examples are: \n",
    "  - items that stack (I.e. crafting items)\n",
    "  - single use items (I.e. a rope)\n",
    "  -  multi use items (I.e. Weapons )\n",
    "\n",
    "- **Inventory Display**: Implement a function to show the player's inventory.\n",
    "\n",
    "- **Item Details**: Each item in your game should have a class. These classes will be used to by the Inventory Management. you may use the attached items json file to perform your work but it is lacking data so you may need to edit it or find your own on kaggel or you may use chat GPT to create it.\n",
    "  - example: \"name\": \"Silver Arrow\",\"category\": \"Ammunition\", \"upStats{\"Magic\":1}\n",
    "  ``` python\n",
    "  class Ammunition (Wepons):\n",
    "    self.stacks = True\n",
    "    #your code here\n",
    "    ```\n",
    "\n",
    "\n",
    "- **Persistence**: Ensure the game can save and reload the player's character using files.\n",
    "\n",
    "- **Clean Code**: I expect your code to be clean, well documented with docstrings comments, good formatting, easy to read etc. Consider this for both running the code and reading the code. \n",
    "\n",
    "- **GitHub**: I will be looking at Github for your project files to see how you and your partner co code together. I will look at things like number of commits, contributions, differences between commits, and code frequency. \n",
    "  - I do not expect work daily but I do expect there to be work done often. \n",
    "\n",
    "A word of advice. If you plan to run your code in VS code it would be helpful to output the users input. If not it will be lost. \n",
    "\n",
    "### Game Features:\n",
    "- **Player Profile**: Include player stats.\n",
    "- **Inventory System**: Implement a bag to hold items.\n",
    "- **Items**: Include items, descriptions, categories, DPS and trait (e.g., +5 magic).\n",
    "- **Concepts**: Utilize functions/modules, loops, arrays, classes, inheritance, encapsulation, files, json.\n",
    "- **Player Type Selection**: Allow players to choose their character type and set attributes accordingly (e.g., wizard: magic = 10, knight: magic = 0).\n",
    "- **Inventory Display**: Implement a function to show the player's inventory.\n",
    "- **Code Quality**: Keep your code clean and consider various player needs, as this project will be handed off to a partner for further development.\n",
    "- **GitHub**: Work together and show me your are not cramming at the last min. \n",
    "\n"
   ]
  },
  {
   "cell_type": "markdown",
   "metadata": {},
   "source": []
  },
  {
   "cell_type": "code",
   "execution_count": null,
   "metadata": {},
   "outputs": [],
   "source": [
    "# testing\n",
    "# importing files\n",
    "import Items\n",
    "import Exploring\n",
    "# import Players\n",
    "###############################################\n",
    "import json\n",
    "with open('Item_Data.json') as Item_Data:\n",
    "    inventory_template = json.load(Item_Data)\n",
    "inventory = json.dumps(inventory_template, indent=2)\n",
    "print(inventory) # prints entire inventory\n",
    "\n",
    "# Iterate through the list of items\n",
    "for item in inventory_template[\"items\"]:\n",
    "    # Check for the condition where you want to modify the value\n",
    "    if item[\"id\"] == 0:\n",
    "        # Change the 'name' value of the item with id 0\n",
    "        item[\"name\"] = \"New Name\"  # You can change this to any value you want\n",
    "\n",
    "print(inventory_template)\n",
    "######################################################\n",
    "\n",
    "for item in inventory_template[\"items\"]:\n",
    "    # Check for the condition where you want to modify the value\n",
    "    x = 0\n",
    "    \n",
    "    for i in range(0, 11):\n",
    "        if item[\"id\"] == i:\n",
    "\n",
    "            if item[\"name\"] == \"Empty Slot\" and item[\"description\"] == \"Empty Slot\" and item[\"uses\"] == \"Empty Slot\":\n",
    "                # Change the 'name' value of the item with id 0\n",
    "                item[\"name\"] = \"a\"  # You can change this to any value you want\n",
    "                item[\"description\"] = \"b\"\n",
    "                item[\"uses\"] = \"c\"\n",
    "                \n",
    "                x = 1\n",
    "                break\n",
    "\n",
    "            if x == 1: \n",
    "                break\n",
    "        \n",
    "        if x == 1:\n",
    "            break\n",
    "    if x == 1:\n",
    "        break\n",
    "print(inventory_template)\n",
    "##############################################\n",
    "\n",
    "for descriptions in inventory_template[\"items\"]: #structure taken from ChatGPT\n",
    "    print(descriptions)\n",
    "\n",
    "    # iterate_title = inventory_template[\"id\"][1] #structure taken from ChatGPT\n",
    "    # #print(iterate_title)\n",
    "\n",
    "##############################################\n",
    "for descriptions in inventory_template[\"items\"]: #structure taken from ChatGPT\n",
    "    #print(descriptons)\n",
    "    for attribute in descriptions:\n",
    "        iterate_title = descriptions[\"id\"] #structure taken from ChatGPT\n",
    "        print(iterate_title)"
   ]
  },
  {
   "cell_type": "code",
   "execution_count": null,
   "metadata": {},
   "outputs": [
    {
     "name": "stdout",
     "output_type": "stream",
     "text": [
      "Options: \n",
      "\n"
     ]
    },
    {
     "ename": "TypeError",
     "evalue": "'enumerate' object is not subscriptable",
     "output_type": "error",
     "traceback": [
      "\u001b[1;31m---------------------------------------------------------------------------\u001b[0m",
      "\u001b[1;31mTypeError\u001b[0m                                 Traceback (most recent call last)",
      "Cell \u001b[1;32mIn[7], line 10\u001b[0m\n\u001b[0;32m      7\u001b[0m y \u001b[38;5;241m=\u001b[39m \u001b[38;5;28menumerate\u001b[39m(options, start \u001b[38;5;241m=\u001b[39m \u001b[38;5;241m1\u001b[39m)\n\u001b[0;32m      9\u001b[0m \u001b[38;5;28;01mfor\u001b[39;00m i \u001b[38;5;129;01min\u001b[39;00m y:\n\u001b[1;32m---> 10\u001b[0m     \u001b[38;5;28mprint\u001b[39m(y[i])\n",
      "\u001b[1;31mTypeError\u001b[0m: 'enumerate' object is not subscriptable"
     ]
    }
   ],
   "source": [
    "options = [\"Exit Menu\", \"Display Items\",\"Pick Up Item\", \"Drop Item\",\"Save Game\"]\n",
    "print(\"Options: \\n\")\n",
    "\n",
    "for i in enumerate(options, start = 1):\n",
    "    print(i)\n",
    "\n",
    "choice = int(input(\"Enter the number of the chosen option: \"))\n",
    "\n",
    "\n"
   ]
  },
  {
   "cell_type": "code",
   "execution_count": null,
   "metadata": {},
   "outputs": [
    {
     "ename": "NameError",
     "evalue": "name 'self' is not defined",
     "output_type": "error",
     "traceback": [
      "\u001b[1;31m---------------------------------------------------------------------------\u001b[0m",
      "\u001b[1;31mNameError\u001b[0m                                 Traceback (most recent call last)",
      "Cell \u001b[1;32mIn[30], line 9\u001b[0m\n\u001b[0;32m      6\u001b[0m     \u001b[38;5;66;03m#print(json.dumps(shows, indent=2))\u001b[39;00m\n\u001b[0;32m      7\u001b[0m inventory \u001b[38;5;241m=\u001b[39m json\u001b[38;5;241m.\u001b[39mdumps(inventory_template, indent\u001b[38;5;241m=\u001b[39m\u001b[38;5;241m2\u001b[39m)\n\u001b[1;32m----> 9\u001b[0m abc \u001b[38;5;241m=\u001b[39m Items(\u001b[38;5;28mself\u001b[39m, \u001b[38;5;124m\"\u001b[39m\u001b[38;5;124mabc\u001b[39m\u001b[38;5;124m\"\u001b[39m, \u001b[38;5;241m5\u001b[39m, \u001b[38;5;124m\"\u001b[39m\u001b[38;5;124mcommon item\u001b[39m\u001b[38;5;124m\"\u001b[39m)\n\u001b[0;32m     11\u001b[0m Items\u001b[38;5;241m.\u001b[39mtake_item(abc, \u001b[38;5;124m\"\u001b[39m\u001b[38;5;124msandwich\u001b[39m\u001b[38;5;124m\"\u001b[39m)\n",
      "\u001b[1;31mNameError\u001b[0m: name 'self' is not defined"
     ]
    }
   ],
   "source": [
    "from Items import Items\n",
    "import json\n",
    "\n",
    "with open('Item_Data.json') as Item_Data:\n",
    "        inventory_template = json.load(Item_Data)\n",
    "    #print(json.dumps(shows, indent=2))\n",
    "inventory = json.dumps(inventory_template, indent=2)\n",
    "\n",
    "# abc = Items(\"abc\", 5, \"common item\")\n",
    "\n",
    "# Items.take_item(abc, \"sandwich\")"
   ]
  },
  {
   "cell_type": "code",
   "execution_count": 12,
   "metadata": {},
   "outputs": [],
   "source": [
    "import json\n",
    "class Things(object):\n",
    "    \"\"\"Initializes objects the player can interact with and store.\"\"\"  \n",
    "       \n",
    "    def __init__(self, name=None, uses=None, description=None, inventory_dictionary=None):\n",
    "        \"\"\"Sets up the basic details of the object.\"\"\"\n",
    "\n",
    "        self.name = name\n",
    "        self.uses = uses #determines how many uses an object gets\n",
    "        self.description = description\n",
    "        self.inventory_dictionary= inventory_dictionary\n",
    "        \n",
    "    def add_item(self):\n",
    "        \"\"\"Allows the player to put the object in their inventory.\"\"\"\n",
    "        \n",
    "        with open('Item_Data.json') as Item_Data:\n",
    "            inventory_dictionary = json.load(Item_Data) # this is the actual json object\n",
    "\n",
    "        # structure taken and modified from ChatGPT\n",
    "        flag = False\n",
    "        for items in inventory_dictionary[\"items\"]:\n",
    "            try: \n",
    "                if flag:\n",
    "                    return \"This item has already been added to your inventory.\"\n",
    "                \n",
    "            except: \n",
    "                for item in self.inventory_dictionary[\"items\"]:\n",
    "                    # Check for the condition where you want to modify the value\n",
    "\n",
    "                    if item[\"name\"] == \"Empty Slot\":\n",
    "                        # Change the 'name' value of the item with id 0\n",
    "                        item[\"name\"] = self.name  # You can change this to any value you want\n",
    "                        item[\"description\"] = self.description\n",
    "                        item[\"uses\"] = self.uses\n",
    "\n",
    "                        print(f\"You have added {self.name} to your inventory.\")\n",
    "                        flag = True\n",
    "\n",
    "\n",
    "stick = Things(\"stick\",5,\"A stick to throw\")\n",
    "Things.add_item(stick)\n"
   ]
  }
 ],
 "metadata": {
  "kernelspec": {
   "display_name": "base",
   "language": "python",
   "name": "python3"
  },
  "language_info": {
   "codemirror_mode": {
    "name": "ipython",
    "version": 3
   },
   "file_extension": ".py",
   "mimetype": "text/x-python",
   "name": "python",
   "nbconvert_exporter": "python",
   "pygments_lexer": "ipython3",
   "version": "3.12.8"
  }
 },
 "nbformat": 4,
 "nbformat_minor": 2
}
