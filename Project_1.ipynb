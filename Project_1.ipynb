{
 "cells": [
  {
   "cell_type": "markdown",
   "metadata": {},
   "source": [
    "    An Important note. The files found in the sample folder are of students work from last year. These files are to give you a sense of a single persons work on Project 1. It is important to note that this was a single person project and not a group project like we are doing. \n",
    "\n",
    "    Again the code supplied is for you to get an idea of code and help you along your path.\n",
    "    "
   ]
  },
  {
   "cell_type": "markdown",
   "metadata": {},
   "source": [
    "# Project 1"
   ]
  },
  {
   "cell_type": "markdown",
   "metadata": {},
   "source": [
    "\n",
    "## Your task is to develop **with a partner** a text-based video game \n",
    "\n",
    "## This should take you 3 weeks to complete  \n",
    "I expect code to be around 300 - 400 lines of code. \n",
    "\n",
    "As a team you create a game. Focus on the player profile, inventory system, combat mechanics. \n",
    "Independently work on your parts of code and then work together to make the program flow correctly. \n",
    "I recommend writing all your Independent code in .py files and use .ipynb file to make all the connections and run your game. \n",
    "\n",
    "Incorporate all the concepts we've covered so far, including files (read and write), JSON, operators, lists, (optional) tuples, functions, modules, and classes.\n",
    "\n",
    "\n",
    "Enjoy the process!\n",
    "\n",
    "### Requirements:\n",
    "  note: you may mix and match what each person does in the project \n",
    "- **Player Type Selection**: Allow players to choose their character type. Set attributes based on the choice (e.g., wizard: magic = 10, knight: magic = 0) hint: this should be done in the classes.\n",
    "\n",
    "- **Inventory Management**: Create functions to add and remove items from the inventory. Some examples are: \n",
    "  - items that stack (I.e. crafting items)\n",
    "  - single use items (I.e. a rope)\n",
    "  -  multi use items (I.e. Weapons )\n",
    "\n",
    "- **Inventory Display**: Implement a function to show the player's inventory.\n",
    "\n",
    "- **Item Details**: Each item in your game should have a class. These classes will be used to by the Inventory Management. you may use the attached items json file to perform your work but it is lacking data so you may need to edit it or find your own on kaggel or you may use chat GPT to create it.\n",
    "  - example: \"name\": \"Silver Arrow\",\"category\": \"Ammunition\", \"upStats{\"Magic\":1}\n",
    "  ``` python\n",
    "  class Ammunition (Wepons):\n",
    "    self.stacks = True\n",
    "    #your code here\n",
    "    ```\n",
    "\n",
    "\n",
    "- **Persistence**: Ensure the game can save and reload the player's character using files.\n",
    "\n",
    "- **Clean Code**: I expect your code to be clean, well documented with docstrings comments, good formatting, easy to read etc. Consider this for both running the code and reading the code. \n",
    "\n",
    "- **GitHub**: I will be looking at Github for your project files to see how you and your partner co code together. I will look at things like number of commits, contributions, differences between commits, and code frequency. \n",
    "  - I do not expect work daily but I do expect there to be work done often. \n",
    "\n",
    "A word of advice. If you plan to run your code in VS code it would be helpful to output the users input. If not it will be lost. \n",
    "\n",
    "### Game Features:\n",
    "- **Player Profile**: Include player stats.\n",
    "- **Inventory System**: Implement a bag to hold items.\n",
    "- **Items**: Include items, descriptions, categories, DPS and trait (e.g., +5 magic).\n",
    "- **Concepts**: Utilize functions/modules, loops, arrays, classes, inheritance, encapsulation, files, json.\n",
    "- **Player Type Selection**: Allow players to choose their character type and set attributes accordingly (e.g., wizard: magic = 10, knight: magic = 0).\n",
    "- **Inventory Display**: Implement a function to show the player's inventory.\n",
    "- **Code Quality**: Keep your code clean and consider various player needs, as this project will be handed off to a partner for further development.\n",
    "- **GitHub**: Work together and show me your are not cramming at the last min. \n",
    "\n"
   ]
  },
  {
   "cell_type": "markdown",
   "metadata": {},
   "source": []
  },
  {
   "cell_type": "code",
   "execution_count": 2,
   "metadata": {},
   "outputs": [],
   "source": [
    "# testing\n",
    "# importing files\n",
    "import Items\n",
    "import Exploring\n",
    "# import Players\n"
   ]
  },
  {
   "cell_type": "code",
   "execution_count": 11,
   "metadata": {},
   "outputs": [
    {
     "name": "stdout",
     "output_type": "stream",
     "text": [
      "{\n",
      "  \"items\": [\n",
      "    {\n",
      "      \"id\": 0,\n",
      "      \"name\": \"Empty Slot\",\n",
      "      \"description\": \"Empty Slot\",\n",
      "      \"uses\": \"Empty Slot\"\n",
      "    },\n",
      "    {\n",
      "      \"id\": 1,\n",
      "      \"name\": \"Empty Slot\",\n",
      "      \"description\": \"Empty Slot\",\n",
      "      \"uses\": \"Empty Slot\"\n",
      "    },\n",
      "    {\n",
      "      \"id\": 2,\n",
      "      \"name\": \"Empty Slot\",\n",
      "      \"description\": \"Empty Slot\",\n",
      "      \"uses\": \"Empty Slot\"\n",
      "    },\n",
      "    {\n",
      "      \"id\": 3,\n",
      "      \"name\": \"Empty Slot\",\n",
      "      \"description\": \"Empty Slot\",\n",
      "      \"uses\": \"Empty Slot\"\n",
      "    },\n",
      "    {\n",
      "      \"id\": 4,\n",
      "      \"name\": \"Empty Slot\",\n",
      "      \"description\": \"Empty Slot\",\n",
      "      \"uses\": \"Empty Slot\"\n",
      "    },\n",
      "    {\n",
      "      \"id\": 5,\n",
      "      \"name\": \"Empty Slot\",\n",
      "      \"description\": \"Empty Slot\",\n",
      "      \"uses\": \"Empty Slot\"\n",
      "    },\n",
      "    {\n",
      "      \"id\": 6,\n",
      "      \"name\": \"Empty Slot\",\n",
      "      \"description\": \"Empty Slot\",\n",
      "      \"uses\": \"Empty Slot\"\n",
      "    },\n",
      "    {\n",
      "      \"id\": 7,\n",
      "      \"name\": \"Empty Slot\",\n",
      "      \"description\": \"Empty Slot\",\n",
      "      \"uses\": \"Empty Slot\"\n",
      "    },\n",
      "    {\n",
      "      \"id\": 8,\n",
      "      \"name\": \"Empty Slot\",\n",
      "      \"description\": \"Empty Slot\",\n",
      "      \"uses\": \"Empty Slot\"\n",
      "    },\n",
      "    {\n",
      "      \"id\": 9,\n",
      "      \"name\": \"Empty Slot\",\n",
      "      \"description\": \"Empty Slot\",\n",
      "      \"uses\": \"Empty Slot\"\n",
      "    },\n",
      "    {\n",
      "      \"id\": 10,\n",
      "      \"name\": \"Empty Slot\",\n",
      "      \"description\": \"Empty Slot\",\n",
      "      \"uses\": \"Empty Slot\"\n",
      "    }\n",
      "  ]\n",
      "}\n"
     ]
    }
   ],
   "source": [
    "import json\n",
    "with open('Item_Data.json') as Item_Data:\n",
    "    inventory_template = json.load(Item_Data)\n",
    "inventory = json.dumps(inventory_template, indent=2)\n",
    "print(inventory) # prints entire inventory\n"
   ]
  },
  {
   "cell_type": "code",
   "execution_count": 4,
   "metadata": {},
   "outputs": [
    {
     "name": "stdout",
     "output_type": "stream",
     "text": [
      "{'items': [{'id': 0, 'name': 'New Name', 'description': 'Empty Slot'}, {'id': 1, 'name': 'Empty Slot', 'description': 'Empty Slot'}, {'id': 2, 'name': 'Empty Slot', 'description': 'Empty Slot'}, {'id': 3, 'name': 'Empty Slot', 'description': 'Empty Slot'}, {'id': 4, 'name': 'Empty Slot', 'description': 'Empty Slot'}, {'id': 5, 'name': 'Empty Slot', 'description': 'Empty Slot'}, {'id': 6, 'name': 'Empty Slot', 'description': 'Empty Slot'}, {'id': 7, 'name': 'Empty Slot', 'description': 'Empty Slot'}, {'id': 8, 'name': 'Empty Slot', 'description': 'Empty Slot'}, {'id': 9, 'name': 'Empty Slot', 'description': 'Empty Slot'}, {'id': 10, 'name': 'Empty Slot', 'description': 'Empty Slot'}]}\n"
     ]
    }
   ],
   "source": [
    "# Iterate through the list of items\n",
    "for item in inventory_template[\"items\"]:\n",
    "    # Check for the condition where you want to modify the value\n",
    "    if item[\"id\"] == 0:\n",
    "        # Change the 'name' value of the item with id 0\n",
    "        item[\"name\"] = \"New Name\"  # You can change this to any value you want\n",
    "\n",
    "print(inventory_template)"
   ]
  },
  {
   "cell_type": "code",
   "execution_count": 12,
   "metadata": {},
   "outputs": [
    {
     "name": "stdout",
     "output_type": "stream",
     "text": [
      "{'items': [{'id': 0, 'name': 'a', 'description': 'b', 'uses': 'c'}, {'id': 1, 'name': 'Empty Slot', 'description': 'Empty Slot', 'uses': 'Empty Slot'}, {'id': 2, 'name': 'Empty Slot', 'description': 'Empty Slot', 'uses': 'Empty Slot'}, {'id': 3, 'name': 'Empty Slot', 'description': 'Empty Slot', 'uses': 'Empty Slot'}, {'id': 4, 'name': 'Empty Slot', 'description': 'Empty Slot', 'uses': 'Empty Slot'}, {'id': 5, 'name': 'Empty Slot', 'description': 'Empty Slot', 'uses': 'Empty Slot'}, {'id': 6, 'name': 'Empty Slot', 'description': 'Empty Slot', 'uses': 'Empty Slot'}, {'id': 7, 'name': 'Empty Slot', 'description': 'Empty Slot', 'uses': 'Empty Slot'}, {'id': 8, 'name': 'Empty Slot', 'description': 'Empty Slot', 'uses': 'Empty Slot'}, {'id': 9, 'name': 'Empty Slot', 'description': 'Empty Slot', 'uses': 'Empty Slot'}, {'id': 10, 'name': 'Empty Slot', 'description': 'Empty Slot', 'uses': 'Empty Slot'}]}\n"
     ]
    }
   ],
   "source": [
    "for item in inventory_template[\"items\"]:\n",
    "    # Check for the condition where you want to modify the value\n",
    "    x = 0\n",
    "    \n",
    "    for i in range(0, 11):\n",
    "        if item[\"id\"] == i:\n",
    "\n",
    "            if item[\"name\"] == \"Empty Slot\" and item[\"description\"] == \"Empty Slot\" and item[\"uses\"] == \"Empty Slot\":\n",
    "                # Change the 'name' value of the item with id 0\n",
    "                item[\"name\"] = \"a\"  # You can change this to any value you want\n",
    "                item[\"description\"] = \"b\"\n",
    "                item[\"uses\"] = \"c\"\n",
    "                \n",
    "                x = 1\n",
    "                break\n",
    "\n",
    "            if x == 1: \n",
    "                break\n",
    "        \n",
    "        if x == 1:\n",
    "            break\n",
    "    if x == 1:\n",
    "        break\n",
    "\n",
    "\n",
    "\n",
    "print(inventory_template)\n",
    "                         "
   ]
  },
  {
   "cell_type": "code",
   "execution_count": 19,
   "metadata": {},
   "outputs": [
    {
     "name": "stdout",
     "output_type": "stream",
     "text": [
      "{'id': 10, 'name': 'Test1', 'description': 'Test2', 'uses': 'Test3'}\n",
      "{'id': 10, 'name': 'Test1', 'description': 'Test2', 'uses': 'Test3'}\n",
      "{'id': 10, 'name': 'Test1', 'description': 'Test2', 'uses': 'Test3'}\n",
      "{'id': 10, 'name': 'Test1', 'description': 'Test2', 'uses': 'Test3'}\n",
      "{'id': 10, 'name': 'Test1', 'description': 'Test2', 'uses': 'Test3'}\n",
      "{'id': 10, 'name': 'Test1', 'description': 'Test2', 'uses': 'Test3'}\n",
      "{'id': 10, 'name': 'Test1', 'description': 'Test2', 'uses': 'Test3'}\n",
      "{'id': 10, 'name': 'Test1', 'description': 'Test2', 'uses': 'Test3'}\n",
      "{'id': 10, 'name': 'Test1', 'description': 'Test2', 'uses': 'Test3'}\n",
      "{'id': 10, 'name': 'Test1', 'description': 'Test2', 'uses': 'Test3'}\n",
      "{'id': 10, 'name': 'Test1', 'description': 'Test2', 'uses': 'Test3'}\n"
     ]
    }
   ],
   "source": [
    "for descriptions in inventory_template[\"items\"]: #structure taken from ChatGPT\n",
    "    print(descriptions)\n",
    "\n",
    "    # iterate_title = inventory_template[\"id\"][1] #structure taken from ChatGPT\n",
    "    # #print(iterate_title)"
   ]
  },
  {
   "cell_type": "code",
   "execution_count": null,
   "metadata": {},
   "outputs": [
    {
     "ename": "TypeError",
     "evalue": "'int' object is not subscriptable",
     "output_type": "error",
     "traceback": [
      "\u001b[1;31m---------------------------------------------------------------------------\u001b[0m",
      "\u001b[1;31mTypeError\u001b[0m                                 Traceback (most recent call last)",
      "Cell \u001b[1;32mIn[20], line 4\u001b[0m\n\u001b[0;32m      1\u001b[0m \u001b[38;5;28;01mfor\u001b[39;00m descriptions \u001b[38;5;129;01min\u001b[39;00m inventory_template[\u001b[38;5;124m\"\u001b[39m\u001b[38;5;124mitems\u001b[39m\u001b[38;5;124m\"\u001b[39m]: \u001b[38;5;66;03m#structure taken from ChatGPT\u001b[39;00m\n\u001b[0;32m      2\u001b[0m     \u001b[38;5;66;03m#print(descriptons)\u001b[39;00m\n\u001b[0;32m      3\u001b[0m     \u001b[38;5;28;01mfor\u001b[39;00m attribute \u001b[38;5;129;01min\u001b[39;00m descriptions:\n\u001b[1;32m----> 4\u001b[0m         iterate_title \u001b[38;5;241m=\u001b[39m descriptions[\u001b[38;5;124m\"\u001b[39m\u001b[38;5;124mid\u001b[39m\u001b[38;5;124m\"\u001b[39m][\u001b[38;5;124m\"\u001b[39m\u001b[38;5;124mid\u001b[39m\u001b[38;5;124m\"\u001b[39m] \u001b[38;5;66;03m#structure taken from ChatGPT\u001b[39;00m\n\u001b[0;32m      5\u001b[0m         \u001b[38;5;28mprint\u001b[39m(iterate_title)\n",
      "\u001b[1;31mTypeError\u001b[0m: 'int' object is not subscriptable"
     ]
    }
   ],
   "source": [
    "for descriptions in inventory_template[\"items\"]: #structure taken from ChatGPT\n",
    "    #print(descriptons)\n",
    "    for attribute in descriptions:\n",
    "        iterate_title = descriptions[\"id\"] #structure taken from ChatGPT\n",
    "        print(iterate_title)"
   ]
  }
 ],
 "metadata": {
  "kernelspec": {
   "display_name": "base",
   "language": "python",
   "name": "python3"
  },
  "language_info": {
   "codemirror_mode": {
    "name": "ipython",
    "version": 3
   },
   "file_extension": ".py",
   "mimetype": "text/x-python",
   "name": "python",
   "nbconvert_exporter": "python",
   "pygments_lexer": "ipython3",
   "version": "3.12.8"
  }
 },
 "nbformat": 4,
 "nbformat_minor": 2
}
